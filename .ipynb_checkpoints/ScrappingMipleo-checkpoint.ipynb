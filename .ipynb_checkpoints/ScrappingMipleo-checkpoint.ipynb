{
 "cells": [
  {
   "cell_type": "code",
   "execution_count": 1,
   "metadata": {},
   "outputs": [],
   "source": [
    "# Imports\n",
    "import pandas as pd\n",
    "from selenium import webdriver\n",
    "from selenium.common.exceptions import NoSuchElementException\n",
    "import time\n",
    "import sqlite3\n",
    "from sqlite3 import Error"
   ]
  },
  {
   "cell_type": "code",
   "execution_count": 2,
   "metadata": {},
   "outputs": [],
   "source": [
    "# Connection to SQLite\n",
    "db_file = 'mipleoDescription.db' # You need create this file on current directory\n",
    "conn = None\n",
    "try:\n",
    "    conn = sqlite3.connect(db_file)\n",
    "except Error as e:\n",
    "    print(e)"
   ]
  },
  {
   "cell_type": "code",
   "execution_count": 3,
   "metadata": {},
   "outputs": [],
   "source": [
    "# Creating table\n",
    "c = conn.cursor()\n",
    "c.execute(\"\"\"\n",
    "    SELECT count(name)\n",
    "    FROM sqlite_master\n",
    "    WHERE type='table'\n",
    "    AND name='jobs'\n",
    "\"\"\")\n",
    "\n",
    "if c.fetchone()[0] == 1:\n",
    "    print('Table job already exists.')\n",
    "else:\n",
    "    c.execute(\"\"\"\n",
    "        CREATE TABLE jobs(\n",
    "            job_category text,\n",
    "            job_name text,            \n",
    "            company text,\n",
    "            salary real,\n",
    "            category text,\n",
    "            sub_category text,\n",
    "            location text,\n",
    "            active_since text,\n",
    "            time text,\n",
    "            contract_type text,\n",
    "            description text\n",
    "        )\n",
    "    \"\"\")\n",
    "    conn.commit()"
   ]
  },
  {
   "cell_type": "code",
   "execution_count": 36,
   "metadata": {},
   "outputs": [],
   "source": [
    "# Function to save records on db\n",
    "def insertJobDB(conn, job):\n",
    "    sql = \"\"\"\n",
    "        INSERT INTO jobs(\n",
    "            job_category,\n",
    "            job_name,\n",
    "            company,\n",
    "            salary,\n",
    "            category,\n",
    "            sub_category,\n",
    "            location,\n",
    "            active_since,\n",
    "            time,\n",
    "            contract_type,\n",
    "            description\n",
    "        ) VALUES (?,?,?,?,?,?,?,?,?,?,?)\n",
    "    \"\"\"\n",
    "    c = conn.cursor()\n",
    "    c.execute(sql, job)\n",
    "    conn.commit()"
   ]
  },
  {
   "cell_type": "code",
   "execution_count": 37,
   "metadata": {},
   "outputs": [],
   "source": [
    "# Driver\n",
    "driver = webdriver.Chrome(executable_path='/usr/bin/chromedriver')\n",
    "driver.get('https://www.mipleo.com.ec/ofertas-de-trabajo/?q=')"
   ]
  },
  {
   "cell_type": "code",
   "execution_count": 38,
   "metadata": {},
   "outputs": [
    {
     "name": "stdout",
     "output_type": "stream",
     "text": [
      "['ADMINISTRACIÓN / CONTABILIDAD / FINANZAS', 'ALMACENAMIENTO / LOGÍSTICA / DISTRIBUCIÓN', 'COMERCIAL / VENTAS / ATENCIÓN AL CLIENTE', 'DISEÑO / DECORACIÓN / ARTES GRÁFICAS', 'RECURSOS HUMANOS / RELACIONES PÚBLICAS', 'INFORMÁTICA / TELECOMUNICACIONES', 'MEDICINA / SALUD', 'PRODUCCIÓN / MANTENIMIENTO / OPERACIONES', 'MARKETING / PUBLICIDAD / PRODUCCIÓN AUDIOVISUAL', 'LEGAL / ASESORÍA', 'ARQUITECTURA / INGENIERÍAS', 'HOTELERÍA / TURISMO', 'DOCENCIA / EDUCACIÓN', 'COMPRAS / COMERCIO EXTERIOR', 'CONSTRUCCIÓN / OBRAS / EDIFICACIONES']\n"
     ]
    }
   ],
   "source": [
    "# Extracting job categories\n",
    "jobCategories = []\n",
    "jobCategoriesNodes = driver.find_elements_by_xpath('//select[@id=\"category\"]/option')\n",
    "for e in jobCategoriesNodes:\n",
    "    category = e.text\n",
    "    jobCategories.append(category)\n",
    "\n",
    "jobCategories.pop(0) # Deleting placeholder of select\n",
    "print(jobCategories)"
   ]
  },
  {
   "cell_type": "code",
   "execution_count": 39,
   "metadata": {},
   "outputs": [
    {
     "name": "stdout",
     "output_type": "stream",
     "text": [
      "15\n"
     ]
    }
   ],
   "source": [
    "print(len(jobCategories))"
   ]
  },
  {
   "cell_type": "code",
   "execution_count": 40,
   "metadata": {},
   "outputs": [],
   "source": [
    "SLEEP_TIME = 3 # Global variable to manage the time to await while the page is loading"
   ]
  },
  {
   "cell_type": "code",
   "execution_count": 41,
   "metadata": {},
   "outputs": [],
   "source": [
    "def extractInfoSite(driver, jobCategoryName, conn):\n",
    "    print(jobCategoryName)        \n",
    "    cardJobsNodes = driver.find_elements_by_xpath('//div[@class=\"infoAd\"]')    \n",
    "    for i in range(len(cardJobsNodes)):\n",
    "        driver.find_element_by_xpath('//div[@class=\"item_list\"][{}]/div/span[@class=\"titleAd\"]/a'.format(i+1)).click()\n",
    "        time.sleep(SLEEP_TIME)\n",
    "        try:\n",
    "            jobInfo = (\n",
    "                jobCategoryName,\n",
    "                driver.find_element_by_xpath('//div[@class=\"header_item\"]/h1').text, # job_name\n",
    "                driver.find_element_by_xpath('//div[@class=\"box\"][1]/span').text, # company\n",
    "                driver.find_element_by_xpath('//ul[@class=\"info_item\"]/li[1]/b').text, # salary\n",
    "                driver.find_element_by_xpath('//ul[@class=\"info_item\"]/li[2]/b').text, # category\n",
    "                driver.find_element_by_xpath('//ul[@class=\"info_item\"]/li[3]/b').text, # sub_category\n",
    "                driver.find_element_by_xpath('//ul[@class=\"info_item\"]/li[4]/b').text, # location\n",
    "                driver.find_element_by_xpath('//ul[@class=\"info_item\"]/li[5]/b').text, # active_since\n",
    "                driver.find_element_by_xpath('//ul[@class=\"info_item\"]/li[6]/b').text, # time\n",
    "                driver.find_element_by_xpath('//ul[@class=\"info_item\"]/li[7]/b').text, # contract_type\n",
    "                driver.find_element_by_xpath('//div[@class=\"description_item\"]/div[2]/p').text # description\n",
    "            )\n",
    "            print(jobInfo)\n",
    "            insertJobDB(conn, jobInfo)\n",
    "        except Exception as e:\n",
    "            print(e)\n",
    "        finally:\n",
    "            driver.back()\n",
    "            time.sleep(SLEEP_TIME)\n",
    "    try:\n",
    "        driver.find_element_by_xpath('//*[@id=\"pages\"]/p/following-sibling::a').click()\n",
    "        time.sleep(SLEEP_TIME)\n",
    "        extractInfoSite(driver, jobCategoryName, conn)\n",
    "    except NoSuchElementException:\n",
    "        print('Last page, moving to the next category')\n",
    "        return 1"
   ]
  },
  {
   "cell_type": "code",
   "execution_count": 42,
   "metadata": {},
   "outputs": [],
   "source": [
    "def extractInfoCategory(driver, conn, jobCategoryName, jobCategoryIndex):\n",
    "    # Load page by category\n",
    "    driver.find_element_by_xpath('//select[@id=\"category\"]/option[{}]'.format(jobCategoryIndex+2)).click()\n",
    "    time.sleep(SLEEP_TIME)\n",
    "    extractInfoSite(driver, jobCategoryName, conn)        "
   ]
  },
  {
   "cell_type": "code",
   "execution_count": 43,
   "metadata": {},
   "outputs": [
    {
     "name": "stdout",
     "output_type": "stream",
     "text": [
      "DISEÑO / DECORACIÓN / ARTES GRÁFICAS\n",
      "3\n"
     ]
    }
   ],
   "source": [
    "# Extracting data from DISEÑO / DECORACIÓN / ARTES GRÁFICAS\n",
    "jobCategoryName = 'DISEÑO / DECORACIÓN / ARTES GRÁFICAS'\n",
    "jobCategoryIndex = jobCategories.index('DISEÑO / DECORACIÓN / ARTES GRÁFICAS')\n",
    "print(jobCategoryName)\n",
    "print(jobCategoryIndex)"
   ]
  },
  {
   "cell_type": "code",
   "execution_count": 44,
   "metadata": {},
   "outputs": [
    {
     "name": "stdout",
     "output_type": "stream",
     "text": [
      "DISEÑO / DECORACIÓN / ARTES GRÁFICAS\n",
      "('DISEÑO / DECORACIÓN / ARTES GRÁFICAS', 'Graphic designer / Video Editor (for marketing content)', 'Heizen Ecuador', 'A convenir', 'Diseño / Decoración / Artes Gráficas', 'Diseño en General', 'Quito', '24/08/2020 - 00:10:12 am', 'Tiempo Completo', 'Contrato por tiempo indefinido', 'We are looking for a talented Graphic Designer/Video Editor to assemble recorded footage into a finished project that matches marketing vision and is suitable for broadcasting.\\nUltimately, as a Video Editor, you should be able to bring sight and sound together in order to tell a cohesive story\\n\\nResponsibilities:\\n\\n- Manipulate and edit film pieces in a way that is invisible to the audience\\n- Take a brief to grasp production team?s needs and specifications\\n- Review shooting script and raw material to create a shot decision list based on scenes? value and contribution to continuity\\n- Trim footage segments and put together the sequence of the film\\n- Input music, dialogues, graphics and effects\\n- Create rough and final cuts\\n- Ensure logical sequencing and smooth running\\n- Design arts for digital campaigns')\n",
      "('DISEÑO / DECORACIÓN / ARTES GRÁFICAS', 'Diseñador gráfico', 'FIBRECSA CIA.LTDA', '400,00 US$ (Neto mensual)', 'Diseño / Decoración / Artes Gráficas', 'Diseño en General', 'Quito', '23/08/2020 - 12:10:09 pm', 'Tiempo Completo', 'Contrato por tiempo indefinido', 'Importante empresa que brinda servicios al sector automotriz necesita incorporar a su equipo de trabajo un Diseñador Gráfico que cumpla con el siguiente perfil:\\n\\nFormación académica: Superior / Tecnólogo / Técnico\\nÁrea de estudios: Diseño Gráfico\\n\\nConocimientos del cargo:\\nMínimo 2 años en cargos similares\\n\\nFunciones específicas:\\nFamiliaridad con el software y las tecnologías de diseño (como InDesign, Illustrator, Dreamweaver, Photoshop, Premiere, After Effects )\\nDiseño de posts, logotipos, toma de fotografías entre otros.\\nCrear conceptos de publicidad\\nDiseño web\\nActualización de contenidos y recursos gráficos\\nDiseño y edición de videos, e imagen visual\\nOtras inherentes bajo su cargo\\n\\nCompetencias y habilidades\\nTrabajo en equipo\\nCapacidad para trabajar metódicamente y cumplir los plazos de entrega\\nExcelentes dotes de comunicación\\nCreatividad\\nPlanificación y organización\\nResponsabilidad\\nTolerancia a la presión')\n",
      "('DISEÑO / DECORACIÓN / ARTES GRÁFICAS', 'Community manager', 'Empresa Multimarcas', 'A convenir', 'Diseño / Decoración / Artes Gráficas', 'Diseño en General', 'Guayaquil', '23/08/2020 - 00:50:17 am', 'Tiempo Completo', 'Contrato por tiempo indefinido', 'Estamos en búsqueda de una Community Manager\\n\\nDebe ser mujer (Debe manejar varias marcas entre ella de productos cosméticos)\\nConocimientos en diseño (básico, contamos con diseñadora de planta)\\nRedacción creativa e impecable\\nExperiencia en manejo de Redes\\nDeberá trabajar unos días en oficina y otros puede ser teletrabajo\\nComunicación con clientes por llamadas, whastapp business y direct messages.\\nUso de la herramienta Mailchimp\\nManejo de los pedidos de la tienda ecommerce\\nManejo de un CRM\\nDominio de Ingles Intermedio\\n\\nNO somos agencia\\nOfrecemos:\\nEstabilidad laboral e incremento salarial al corto plazo en base a resultados.\\nCursos y capacitaciones.')\n",
      "('DISEÑO / DECORACIÓN / ARTES GRÁFICAS', 'Diseñador Gráfico', 'labmac', 'A convenir', 'Diseño / Decoración / Artes Gráficas', 'Diseño en General', 'Durán', '21/08/2020 - 12:10:58 pm', 'Tiempo Completo', 'Contrato por tiempo indefinido', '? Diseñar la línea gráfica de la cartera de productos de la empresa.\\n- Diseñar portafolio virtual, afiches, volantes, roll up, trípticos, banners y publicidad en general\\n- Revisar y resguardar los archivos de cada diseño elaborado de la empresa siendo responsable de su custodia.\\n- Revisar y corregir el material diseñado.\\n- Mantener Confidencialidad y sigilo en la información que maneja.\\n- Mantener en constante comunicación con químico farmacéutico a cargo de revisión de texto en general.\\n- Mantener en orden equipo y sitio de trabajo, reportando cualquier anomalía que afecte a su buen desempeño en los diseños o en el resguarde de los artes en el computador.\\n- Mantener reuniones para planificación de nuevos proyectos y trabajos\\n- Realizar cualquier otra tarea afín que le sea asignada.\\n- Manejar de Illustrator, Photoshop, entre otros.\\n- Manejar Animaciones para redes sociales (GIFs)\\n- Elaborar prints digitales\\n\\nRequisito: Traer Prueba de Covid')\n",
      "('DISEÑO / DECORACIÓN / ARTES GRÁFICAS', 'Diseñador Industrial y/o Diseñador Gráfico', 'CAJAS Y EMPAQUES INDUSTRIALES CLUSTERPACK CPK SA', 'A convenir', 'Diseño / Decoración / Artes Gráficas', 'Diseño en General', 'Quito', '21/08/2020 - 12:06:19 pm', 'Tiempo Completo', 'Otro tipo de contrato', 'Elaboración y desarrollo de artes para productos de empaques de cartón.\\nCoordinador con el productor los desarrollos de productos.\\nElaborar matrices e indicadores de cumplimiento de OTIF.( On Time in Full )')\n",
      "('DISEÑO / DECORACIÓN / ARTES GRÁFICAS', 'Community manager (Freelancer, Work from home)', 'Heizen Ecuador', 'A convenir', 'Diseño / Decoración / Artes Gráficas', 'Diseño en General', 'Quito', '21/08/2020 - 12:06:03 pm', 'Tiempo Completo', 'Contrato por tiempo indefinido', 'We are looking for a qualified Community manager to join our team. If you are a tech-savvy professional, experienced in social media, video editing, and graphic design, we would like to meet you.\\n\\nOur ideal candidate has exceptional oral and written communication skills and is able to develop engaging content. You should be a ?people person? with great customer service skills and the ability to moderate online and offline conversations with our community.')\n",
      "('DISEÑO / DECORACIÓN / ARTES GRÁFICAS', 'Auxiliar de diseño gráfico', 'Didelpa S.A.', 'A convenir', 'Diseño / Decoración / Artes Gráficas', 'Diseño en General', 'Guayaquil', '21/08/2020 - 12:05:53 pm', 'Por Horas', 'Otro tipo de contrato', '* Conocimiento en elaboración de artes y piezas gráficas.\\n* Conocimiento intermedio en edición de imágenes y videos.\\n* Desarrollo de artes adaptadas a cada plataforma.\\n- Manejo de programas Adobe Illustrator, Adobe Photoshop. Adobe Premiere, Adobe After Effects y demás.\\n* Manejo de Microsoft Office.\\n* Trabajo realizado en Mac y PC.')\n",
      "('DISEÑO / DECORACIÓN / ARTES GRÁFICAS', 'Instituto Superior Necesita', 'ITESUT', 'A convenir', 'Diseño / Decoración / Artes Gráficas', 'Diseño en General', 'Quito', '20/08/2020 - 01:40:11 am', 'Tiempo Completo', 'Contrato por tiempo determinado', 'Instituto Superior Necesita Community manager con conocimiento en Wordpress, marketing en redes sociales. Debe por lo menos tener un título de Tercer Nivel y que de preferencia viva en el norte de Quito.')\n",
      "('DISEÑO / DECORACIÓN / ARTES GRÁFICAS', 'Diseñador gráfico, multimedia, web y Comunity Manager', 'Solar Ear', '400,00 US$ (Neto mensual)', 'Diseño / Decoración / Artes Gráficas', 'Diseño en General', 'Quito', '18/08/2020 - 08:35:08 am', 'Tiempo Completo', 'Contrato por tiempo indefinido', 'Solo se tomará en cuenta a los que envían su Hoja de Vida al Correo con Aspiración Salarial\\nDescripción\\nBuscamos Diseñador Gráfico, con los siguientes conocimientos:\\nFunciones específicas:\\nManejo del software (Illustrator, Photoshop)\\nFacebook Ads, Google Adwords.\\nDiseño web (Wordpress) actualización y mantenimiento de la misma.\\nOpcional (Premiere, After Effects )\\nRecepción y manejo de agenda electrónica.\\nCompetencia en atención y asesoramiento a Clientes.\\n\\nLa empresa ofrece un sueldo básico más comisión en ventas.')\n",
      "('DISEÑO / DECORACIÓN / ARTES GRÁFICAS', 'Editor audiovisual', 'Electriecu', 'A convenir', 'Diseño / Decoración / Artes Gráficas', 'Diseño en General', 'Guayaquil', '17/08/2020 - 12:50:16 pm', 'Tiempo Completo', 'Contrato por tiempo indefinido', 'Descripción\\nSe busca talentosa editora de videos/ desiñeador gráfico para emplear material audiovisual obtenido en proyectos que concuerden con la visión de marketing y sean aptos para broadcasting\\nEn resumen, deberá poder conjugar el vídeo y el audio para contar un historia coherente al consumidor final\\n\\nResponsabilidades\\n\\n-? Manipular y editar vídeos\\n- Emplear un brief del equipo de producción y marketing para entender sus necesidad y especificaciones\\n- Revisar tomas, script y material en bruto para generar decisiones de escenas en función de necesidades del departamento de marketing\\n- Trabajar en conjunto con los equipos de marketing y producción para generar contenido e ideas para spots publicitarios\\n- Manejar música, diálogos, gráficos, animaciones y efectos\\n- Crear diferentes versiones para pruebas de contenido con audiencia\\n- Garantizar secuencia lógica y continuidad dentro de las tomas, cuidando la narrativa\\n- Diseñar artes para campañas digitales\\n\\n\\nRequerimientos\\nGénero: femenino\\nEducación Mínima: Universidad\\nAños de experiencia: 1\\nIdiomas: Inglés\\nEdad: A partir de 22 años\\nDisponibilidad de Viajar: No\\nDisponibilidad de Cambio de Residencia: No\\nAdjuntar reel en su cv')\n"
     ]
    },
    {
     "name": "stdout",
     "output_type": "stream",
     "text": [
      "('DISEÑO / DECORACIÓN / ARTES GRÁFICAS', 'Diseñador/a (Leer primero por favor antes de aplicar)', 'ASAP CPM', '400,00 US$ (Neto mensual)', 'Diseño / Decoración / Artes Gráficas', 'Diseño en General', 'Quito', '17/08/2020 - 12:50:12 pm', 'Tiempo Completo', 'Contrato por tiempo indefinido', 'Se solicita diseñador Junior con conocimiento en impresion gran formato y manejo de maquinas de impresion, plotter de corte (manejo de cnc y corte láser será bienvenido). Solo personas que cumplan los requisitos serán tenidos en cuenta. Preferiblemente que vivan al norte de Quito. Se requieren documentos al día. Enviar CV adjunto.')\n",
      "('DISEÑO / DECORACIÓN / ARTES GRÁFICAS', 'Recepción, Diseñador gráfico, web y Comunity Manager', 'Solar Ear', '400,00 US$ (Neto mensual)', 'Diseño / Decoración / Artes Gráficas', 'Diseño en General', 'Quito', '17/08/2020 - 09:15:14 am', 'Tiempo Completo', 'Contrato por tiempo indefinido', 'Buscamos Diseñador Gráfico, con los siguientes conocimientos:\\nFunciones específicas:\\nManejo del software (Illustrator, Photoshop)\\nFacebook Ads, Google Adwords.\\nDiseño web (Wordpress) actualización y mantenimiento de la misma.\\nOpcional (Premiere, After Effects )\\nRecepción y manejo de agenda electrónica.\\nCompetencia en atención y asesoramiento a Clientes.\\n\\nLa empresa ofrece un sueldo básico más comisión en ventas.\\n\\nBuen ambiente de trabajo.')\n",
      "('DISEÑO / DECORACIÓN / ARTES GRÁFICAS', 'Diseñador', 'Empresa de Software', '500,00 US$ (Neto mensual)', 'Diseño / Decoración / Artes Gráficas', 'Diseño en General', 'Guayaquil', '16/08/2020 - 13:05:12 pm', 'Tiempo Completo', 'Otro tipo de contrato', 'Buscamos un diseñador tiempo parcial con los siguientes conocimientos/habilidades:\\n\\n- IX y UX (2020)\\n- Illustrator, Photoshop\\n- Figma (Indispensable)\\n- Editor de videos Davinci o Premier (deseable no indispensable)\\n\\nDebe tener conocimientos actualizados (2020) su trabajo es netamente el diseño de interfaces (Figma).\\nSi no tiene conocimiento de diseño de interfaces o no es su fuerte, por favor no aplicar.\\nSe hará pruebas de conocimiento.')\n",
      "('DISEÑO / DECORACIÓN / ARTES GRÁFICAS', 'Diseñador grafico', 'Estacion De servicios reina del Quinche mas gas', '400,00 US$ (Neto mensual)', 'Diseño / Decoración / Artes Gráficas', 'Diseño en General', 'Quito', '16/08/2020 - 00:25:08 am', 'Tiempo Completo', 'Contrato por tiempo indefinido', 'SE NECESITA DISEÑADOR GRÁFICO PARA ELABORACIÓN DE CATALOGO DEPORTIVO, CON CONOCIMIENTO EN PRODUCCIÓN, EDICIÓN, REVELADO FOTOGRÁFICO Y RETOQUE FOTOGRÁFICO, PERSONAS INTERESADAS DEJAR SUS CV EN LA AVENIDA SIMON BOLIVAR SECTOR LA ARGELIA ALTA EN LAS OFICINAS DE LA GASOLINERA MASGAS')\n",
      "('DISEÑO / DECORACIÓN / ARTES GRÁFICAS', 'Diseñador web', 'Cl Publicidad', 'A convenir', 'Diseño / Decoración / Artes Gráficas', 'Diseño en General', 'Guayaquil', '15/08/2020 - 12:20:08 pm', 'Desde Casa', 'Contrato de obra o labor', 'Dominio de plataformas prestashop, wordpress, woocomerce. Diseño gráfico multimeedia,, excel, word, social media. responsable y con destreza para trabajar bajo presión y resultados.')\n",
      "('DISEÑO / DECORACIÓN / ARTES GRÁFICAS', 'Asistente de Marketing', 'Pentamedica s.a.', 'A convenir', 'Diseño / Decoración / Artes Gráficas', 'Diseño en General', 'Guayaquil', '15/08/2020 - 12:20:07 pm', 'Tiempo Completo', 'Otro tipo de contrato', '? Diseñar el material pop y corporativo de la organización.\\n- Redactar y publicar contenido online en el sitio web y las cuentas en las redes sociales de la empresa.\\n- Crear material de contenido acorde al requerimiento de la organización.\\n- Organizar campañas digitales.\\n- Manejo y actualización de ads.\\n- Recopilar información de las redes sociales, tráfico y posicionamiento web.\\n- Trabajar en conjunto con la Gerencia Comercial para diseñar estrategias y generar ventas.')\n",
      "('DISEÑO / DECORACIÓN / ARTES GRÁFICAS', 'Dibujante mecánico', 'Figueroa S.A.', '500,00 US$ (Neto mensual)', 'Diseño / Decoración / Artes Gráficas', 'Diseño en General', 'Guayaquil', '14/08/2020 - 13:05:08 pm', 'Tiempo Completo', 'Contrato por tiempo indefinido', 'Requisitos:\\nEstudios: Ingeniero, tecnólogo o egresado en Mecánico o Electromecánico Industrial.\\nEdad: Mayor a 26 años.\\nConocimientos: Experiencia Certificada de 2 años en Inventor 3D Y Autocad 2D.\\nDisponibilidad; Tiempo Completo.\\nSe ofrece sueldo mas todos los beneficios de ley.')\n",
      "('DISEÑO / DECORACIÓN / ARTES GRÁFICAS', 'Community Manager Guayaquil', 'EYA C.A', 'A convenir', 'Diseño / Decoración / Artes Gráficas', 'Diseño en General', 'Guayaquil', '11/08/2020 - 13:35:19 pm', 'Por Horas', 'Otro tipo de contrato', 'No por relación de dependencia si no como proveedor independiente.\\nCon conocimientos de diseño gráfico y marketing digital, dinámico, creativo para diseñar el material pop y corporativo de la organización. ? Redactar y publicar contenido online en el sitio web y las cuentas en las redes sociales de la empresa. ? Crear material de contenido acorde al requerimiento de la organización. ? Organizar campañas digitales. ? Manejo y actualización de ads. ? Recopilar información de las redes sociales, tráfico y posicionamiento web. ? Trabajar en conjunto con la Gerencia Comercial para diseñar estrategias y generar ventas.\\nCONOCIMIENTOS SÓLIDOS EN FACEBOOK, INSTAGRAM Y FOTOGRAFÍA')\n",
      "('DISEÑO / DECORACIÓN / ARTES GRÁFICAS', 'Diseñadora Gráfica', 'Ella me quiso', 'A convenir', 'Diseño / Decoración / Artes Gráficas', 'Diseño en General', 'Guayaquil', '11/08/2020 - 12:50:06 pm', 'Tiempo Completo', 'Contrato por tiempo indefinido', 'Somos una reconocida marca dedicada a la venta de calzado femenino. Estamos en busca de una diseñadora gráfica y multimedia para nuestra presencia en redes sociales.\\n\\nRESPONSABILIDADES\\n\\n-Producción y edición de fotos para redes sociales.\\n-Creación de material gráfico para nuestras redes.\\n-Producción y edición de videos para redes sociales.\\n-Manejo de cronograma para publicaciones (Fechas y horarios)\\n\\nREQUISITOS\\n\\n- VIVIR EN VÍA A LA COSTA\\n\\n- MUJER\\n\\n- Conocimientos en Photoshop, Illustrator y Premier.\\n\\n- Habilidades fotográficas y de video.\\n\\n- Edad comprendida entre 20 y 35 años.\\n\\n\\nOFRECEMOS\\n\\n*Ambiente laboral amigable\\n*Cero límites creativos.\\n*Abiertos a ideas y propuestas nuevas/frescas. Tus ideas son bienvenidas :)\\n*Oportunidad de crecer profesionalmente.\\n\\nInstagram: Ellamequiso\\n\\nSE PARTE DE NUESTRA FAMILIA!')\n",
      "('DISEÑO / DECORACIÓN / ARTES GRÁFICAS', 'Diseñador Grafico y Multimedia', 'Universitas', 'A convenir', 'Diseño / Decoración / Artes Gráficas', 'Diseño en General', 'Quito', '10/08/2020 - 16:55:18 pm', 'Beca/Prácticas', 'Otro tipo de contrato', 'Se solicita Diseñador Grafico con amplia experiencia Branding, BTL, Packaging. Buen manejo de Illustrator, Photoshop (Retoques fotograficos), Imprescindible After Efects.\\nPreferencia a candidatos con experiencia en creación de contenidos para Redes Sociales.')\n",
      "DISEÑO / DECORACIÓN / ARTES GRÁFICAS\n",
      "('DISEÑO / DECORACIÓN / ARTES GRÁFICAS', 'Editor de videos', 'Electriecu', 'A convenir', 'Diseño / Decoración / Artes Gráficas', 'Diseño en General', 'Guayaquil', '10/08/2020 - 10:25:11 am', 'Tiempo Completo', 'Contrato por tiempo indefinido', 'Creación de videos publicitarios y de enseñanza\\nEdicion de intros y logos (para 1 empresa)\\nCreación de artes gráficas para redes sociales y para información del cliente\\nCreación de animaciones 3d para clases de belleza\\nManejo de Photoshop, Illustrator, Premiere, After Effects, Cinema 4d')\n",
      "('DISEÑO / DECORACIÓN / ARTES GRÁFICAS', 'Editor multimedia Video y Diseño', 'Educanet - Desarrolloweb Ecuador S.A', '400,00 US$ (Neto mensual)', 'Diseño / Decoración / Artes Gráficas', 'Diseño en General', 'Quito', '07/08/2020 - 12:25:03 pm', 'Tiempo Completo', 'Contrato por tiempo indefinido', 'Buscamos editor de video JR con buen conocimiento y manejo de diseño gráfico\\nAltamente creativo\\nconocimiento de streaming / gaming\\nbuen conocimiento de obs o streamlabs\\nedicion de video en premier / after effects\\nbuen conocimiento de diseño gráfico\\nbuen conocimiento de manejo de redes y canales digitales\\nbuen conocimiento de Photoshop e Ilustrador\\nInglés mínimo, poder escuchar y entender al 100%\\nManejo de elementos visuales para redes y web, soporte de streaming, soporte en ecommerce\\ninteresados enviar cv a nuestro email\\nnuestra empresa de e-commerce trabaja exclusivamente para el mercado Americano y UK, el trabajo es en Inglés un 90%\\ntrabajo 100% presencial en Cumbayá y Quito Sector Carolina\\nPOR FAVOR SI USTED NO CUMPLE EL PERFIL NO APLICAR')\n"
     ]
    },
    {
     "name": "stdout",
     "output_type": "stream",
     "text": [
      "('DISEÑO / DECORACIÓN / ARTES GRÁFICAS', 'Diseñador Grafico', 'MARIA FERNANDA VITERI', 'A convenir', 'Diseño / Decoración / Artes Gráficas', 'Diseño en General', 'Guayaquil', '07/08/2020 - 00:05:04 am', 'Tiempo Completo', 'Contrato por tiempo indefinido', 'Funciones:\\n*Realizar el diseño de las artes para las redes sociales.\\n*Proponer estrategias para captar la atención de los potenciales clientes en redes sociales.\\n*Debe manejar tres rubros del negocio relacionado a electrodomésticos, servicio técnico y ropa.\\n*Realizar cualquier otra función que sea designada por el jefe inmediato.\\n\\nCompetencias:\\n*Orientación al detalle\\n*Creatividad\\n*Proactivo\\n*Organización')\n",
      "('DISEÑO / DECORACIÓN / ARTES GRÁFICAS', 'Pasante de Diseño Gráfico', 'Mercantil Makamba Cia Ltda', 'A convenir', 'Diseño / Decoración / Artes Gráficas', 'Diseño en General', 'Ambato', '07/08/2020 - 00:05:03 am', 'Beca/Prácticas', 'Contrato de Aprendizaje', 'Mercantil Makamba Cia. Ltda. es una empresa ecuatoriana con más de 30 años en el mercado brindando soluciones y las mejores opciones de maquinaria para la industria textil y publicitaria, ofrecemos servicios para maquinaria, insumos, repuestos, servicio técnico y soluciones integrales para nuestros clientes. Te invitamos a ser parte de la familia Makamba\\nMercantil Makamba Cia. Ltda. requiere contratar un pasante de Diseño Gráfico para la ciudad de Ambato.\\nFORMACIÓN ACADÉMICA\\n* Estudiante universitario de los últimos semestres de Diseño Gráfico o afines\\n\\nCONOCIMIENTOS:\\n* Diseño gráfico, audio visual y Fotografía.\\n* Branding y manejo de marcas\\n* Nociones en plataformas social media (Marketing Digital)\\n\\n\\nSOFTWARE DE DISEÑO GRÁFICO Y AUDIOVISUAL\\n* Dominio de Adobe Creative Suite (Ilustrator, Photoshop) - Nivel Avanzado,\\n* Nociones en Adobe: Premiere Pro, After Effects. e indesign\\n\\nCOMPETENCIAS:\\n* Innovador, Organizado, Creativo, Proactivo y dinámico, con Capacidad de trabajar bajo presión\\n\\nBENEFICIOS: Certificado de Pasantía + Salario + Beneficios de Ley')\n",
      "('DISEÑO / DECORACIÓN / ARTES GRÁFICAS', 'Pasantía en Diseño gráfico', 'Insight', '394,00 US$ (Neto mensual)', 'Diseño / Decoración / Artes Gráficas', 'Diseño en General', 'Quito', '06/08/2020 - 12:35:04 pm', 'Beca/Prácticas', 'Contrato de Aprendizaje', 'Pasantía en manejo de color y preproducción para plotters gigantografía de alta calidad, sublimación, corte laser y terminados de producción material pop, exhibidores, letreros exteriores y más. Adicional estara encargado/a del manejo de diseño para redes sociales.')\n",
      "('DISEÑO / DECORACIÓN / ARTES GRÁFICAS', 'Diseño Gráfico/ Redes Sociales', 'DECORPLACE', '400,00 US$ (Neto mensual)', 'Diseño / Decoración / Artes Gráficas', 'Diseño en General', 'Guayaquil', '06/08/2020 - 12:35:03 pm', 'Tiempo Completo', 'Contrato por tiempo determinado', 'Se necesita contratar una persona que administre las redes sociales, la web y de atención a los clientes.\\nConocimiento en pautas, segmentación, elaboración de artes para redes sociales.')\n",
      "('DISEÑO / DECORACIÓN / ARTES GRÁFICAS', 'Diseñador gráfico', 'FIBRECSA CIA.LTDA', '500,00 US$ (Neto mensual)', 'Diseño / Decoración / Artes Gráficas', 'Diseño en General', 'Quito', '05/08/2020 - 15:55:03 pm', 'Tiempo Completo', 'Contrato por tiempo indefinido', 'Importante empresa de la ciudad de Quito que brinda servicios al sector automotriz necesita incorporar a su equipo de trabajo un Diseñador Gráfico que cumpla con el siguiente perfil:\\n\\nFormación académica: Superior / Tecnólogo / Técnico\\nÁrea de estudios: Diseño Gráfico\\n\\nConocimientos del cargo:\\nMínimo 2 años en cargos similares\\n\\nFunciones específicas:\\nFamiliaridad con el software y las tecnologías de diseño (como InDesign, Illustrator, Dreamweaver, Photoshop, Premiere, After Effects )\\nDiseño de posts, logotipos, toma de fotografías entre otros.\\nCrear conceptos de publicidad\\nDiseño web\\nActualización de contenidos y recursos gráficos\\nDiseño y edición de videos, e imagen visual\\nOtras inherentes bajo su cargo\\n\\nCompetencias y habilidades\\nTrabajo en equipo\\nCapacidad para trabajar metódicamente y cumplir los plazos de entrega\\nExcelentes dotes de comunicación\\nCreatividad\\nPlanificación y organización\\nResponsabilidad\\nTolerancia a la presión')\n",
      "Last page, moving to the next category\n"
     ]
    }
   ],
   "source": [
    "extractInfoCategory(driver, conn, jobCategoryName, jobCategoryIndex)"
   ]
  },
  {
   "cell_type": "code",
   "execution_count": 48,
   "metadata": {},
   "outputs": [],
   "source": [
    "# Closing connection when finished\n",
    "conn.close()"
   ]
  },
  {
   "cell_type": "code",
   "execution_count": 49,
   "metadata": {},
   "outputs": [],
   "source": [
    "# Testing to prove if exists the next page\n",
    "# driver.find_element_by_xpath('//*[@id=\"pages\"]/p/following-sibling::a').click()"
   ]
  }
 ],
 "metadata": {
  "kernelspec": {
   "display_name": "Python 3",
   "language": "python",
   "name": "python3"
  },
  "language_info": {
   "codemirror_mode": {
    "name": "ipython",
    "version": 3
   },
   "file_extension": ".py",
   "mimetype": "text/x-python",
   "name": "python",
   "nbconvert_exporter": "python",
   "pygments_lexer": "ipython3",
   "version": "3.8.3"
  }
 },
 "nbformat": 4,
 "nbformat_minor": 4
}
