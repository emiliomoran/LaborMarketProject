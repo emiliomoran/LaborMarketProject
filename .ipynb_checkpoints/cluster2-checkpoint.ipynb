{
 "cells": [
  {
   "cell_type": "code",
   "execution_count": 1,
   "metadata": {},
   "outputs": [],
   "source": [
    "import pandas as pd"
   ]
  },
  {
   "cell_type": "code",
   "execution_count": 2,
   "metadata": {},
   "outputs": [
    {
     "data": {
      "text/html": [
       "<div>\n",
       "<style scoped>\n",
       "    .dataframe tbody tr th:only-of-type {\n",
       "        vertical-align: middle;\n",
       "    }\n",
       "\n",
       "    .dataframe tbody tr th {\n",
       "        vertical-align: top;\n",
       "    }\n",
       "\n",
       "    .dataframe thead th {\n",
       "        text-align: right;\n",
       "    }\n",
       "</style>\n",
       "<table border=\"1\" class=\"dataframe\">\n",
       "  <thead>\n",
       "    <tr style=\"text-align: right;\">\n",
       "      <th></th>\n",
       "      <th>Unnamed: 0</th>\n",
       "      <th>Nombre de trabajo</th>\n",
       "      <th>Compania</th>\n",
       "      <th>Salario</th>\n",
       "      <th>Categoria</th>\n",
       "      <th>Subcategoria</th>\n",
       "      <th>Localidad</th>\n",
       "      <th>Activo desde</th>\n",
       "      <th>Jornada</th>\n",
       "      <th>Tipo de contrato</th>\n",
       "    </tr>\n",
       "  </thead>\n",
       "  <tbody>\n",
       "    <tr>\n",
       "      <th>0</th>\n",
       "      <td>0</td>\n",
       "      <td>Se necesita personal de 17 a 35 años</td>\n",
       "      <td>EMPLEOS EN GUAYAQUIL</td>\n",
       "      <td>$ 500,00 (Mensual)</td>\n",
       "      <td>Almacenamiento / Logística / Distribución</td>\n",
       "      <td>Oficios y Profesiones</td>\n",
       "      <td>Guayaquil</td>\n",
       "      <td>16/08/2020 - 14:32:54 pm</td>\n",
       "      <td>Tiempo completo</td>\n",
       "      <td>Contrato a Plazo Indeterminado</td>\n",
       "    </tr>\n",
       "    <tr>\n",
       "      <th>1</th>\n",
       "      <td>1</td>\n",
       "      <td>Auxiliar de bodega</td>\n",
       "      <td>PARTESCAT</td>\n",
       "      <td>500,00 US$ (Neto mensual)</td>\n",
       "      <td>Almacenamiento / Logística / Distribución</td>\n",
       "      <td>Logística y Distribución</td>\n",
       "      <td>Quito</td>\n",
       "      <td>16/08/2020 - 12:46:40 pm</td>\n",
       "      <td>Tiempo Completo</td>\n",
       "      <td>Otro tipo de contrato</td>\n",
       "    </tr>\n",
       "    <tr>\n",
       "      <th>2</th>\n",
       "      <td>2</td>\n",
       "      <td>Chofer y oficial</td>\n",
       "      <td>Pluproxsa S.A.</td>\n",
       "      <td>406,00 US$ (Neto mensual)</td>\n",
       "      <td>Almacenamiento / Logística / Distribución</td>\n",
       "      <td>Logística y Distribución</td>\n",
       "      <td>Guayaquil</td>\n",
       "      <td>16/08/2020 - 12:46:36 pm</td>\n",
       "      <td>Tiempo Completo</td>\n",
       "      <td>Contrato por tiempo indefinido</td>\n",
       "    </tr>\n",
       "    <tr>\n",
       "      <th>3</th>\n",
       "      <td>3</td>\n",
       "      <td>Mecánico Motocicletas</td>\n",
       "      <td>MULTIMOTOS S. A.</td>\n",
       "      <td>394,00 US$ (Neto mensual)</td>\n",
       "      <td>Almacenamiento / Logística / Distribución</td>\n",
       "      <td>Mantenimiento y Reparaciones</td>\n",
       "      <td>Portoviejo</td>\n",
       "      <td>16/08/2020 - 12:25:27 pm</td>\n",
       "      <td>Tiempo Completo</td>\n",
       "      <td>Contrato por tiempo indefinido</td>\n",
       "    </tr>\n",
       "    <tr>\n",
       "      <th>4</th>\n",
       "      <td>4</td>\n",
       "      <td>Mecánico</td>\n",
       "      <td>CONFIDENCIAL</td>\n",
       "      <td>A convenir</td>\n",
       "      <td>Almacenamiento / Logística / Distribución</td>\n",
       "      <td>Mantenimiento y Reparaciones</td>\n",
       "      <td>Manta</td>\n",
       "      <td>16/08/2020 - 12:25:22 pm</td>\n",
       "      <td>Tiempo Completo</td>\n",
       "      <td>Contrato por tiempo indefinido</td>\n",
       "    </tr>\n",
       "  </tbody>\n",
       "</table>\n",
       "</div>"
      ],
      "text/plain": [
       "   Unnamed: 0                     Nombre de trabajo              Compania  \\\n",
       "0           0  Se necesita personal de 17 a 35 años  EMPLEOS EN GUAYAQUIL   \n",
       "1           1                    Auxiliar de bodega             PARTESCAT   \n",
       "2           2                      Chofer y oficial        Pluproxsa S.A.   \n",
       "3           3                 Mecánico Motocicletas      MULTIMOTOS S. A.   \n",
       "4           4                              Mecánico          CONFIDENCIAL   \n",
       "\n",
       "                     Salario                                  Categoria  \\\n",
       "0         $ 500,00 (Mensual)  Almacenamiento / Logística / Distribución   \n",
       "1  500,00 US$ (Neto mensual)  Almacenamiento / Logística / Distribución   \n",
       "2  406,00 US$ (Neto mensual)  Almacenamiento / Logística / Distribución   \n",
       "3  394,00 US$ (Neto mensual)  Almacenamiento / Logística / Distribución   \n",
       "4                 A convenir  Almacenamiento / Logística / Distribución   \n",
       "\n",
       "                   Subcategoria   Localidad              Activo desde  \\\n",
       "0         Oficios y Profesiones   Guayaquil  16/08/2020 - 14:32:54 pm   \n",
       "1      Logística y Distribución       Quito  16/08/2020 - 12:46:40 pm   \n",
       "2      Logística y Distribución   Guayaquil  16/08/2020 - 12:46:36 pm   \n",
       "3  Mantenimiento y Reparaciones  Portoviejo  16/08/2020 - 12:25:27 pm   \n",
       "4  Mantenimiento y Reparaciones       Manta  16/08/2020 - 12:25:22 pm   \n",
       "\n",
       "           Jornada                Tipo de contrato  \n",
       "0  Tiempo completo  Contrato a Plazo Indeterminado  \n",
       "1  Tiempo Completo           Otro tipo de contrato  \n",
       "2  Tiempo Completo  Contrato por tiempo indefinido  \n",
       "3  Tiempo Completo  Contrato por tiempo indefinido  \n",
       "4  Tiempo Completo  Contrato por tiempo indefinido  "
      ]
     },
     "execution_count": 2,
     "metadata": {},
     "output_type": "execute_result"
    }
   ],
   "source": [
    "df = pd.read_csv(\"ANALYST.csv\")\n",
    "df.head()"
   ]
  },
  {
   "cell_type": "markdown",
   "metadata": {},
   "source": [
    "### Limpiando datos"
   ]
  },
  {
   "cell_type": "code",
   "execution_count": 3,
   "metadata": {},
   "outputs": [],
   "source": [
    "df['Salario'] = df['Salario'].str.rstrip(' US$ (Neto mensual)')\n",
    "df['Salario'] = df['Salario'].str.lstrip('$ ')\n",
    "df['Salario'] = df['Salario'].str.replace(',00', '')\n",
    "df['Salario'] = df['Salario'].str.rstrip(' US$ (M')\n",
    "df['Salario'] = df['Salario'].str.replace('.','')"
   ]
  },
  {
   "cell_type": "code",
   "execution_count": 4,
   "metadata": {},
   "outputs": [],
   "source": [
    "df = df.drop(['Unnamed: 0'], axis=1)"
   ]
  },
  {
   "cell_type": "code",
   "execution_count": 5,
   "metadata": {},
   "outputs": [],
   "source": [
    "df2 = df"
   ]
  },
  {
   "cell_type": "markdown",
   "metadata": {},
   "source": [
    "### Codificando"
   ]
  },
  {
   "cell_type": "code",
   "execution_count": 6,
   "metadata": {},
   "outputs": [],
   "source": [
    "labels1, uniques1 = pd.factorize(df2['Tipo de contrato'])\n",
    "df2['Code_contrato'] = labels1"
   ]
  },
  {
   "cell_type": "code",
   "execution_count": 7,
   "metadata": {},
   "outputs": [],
   "source": [
    "labels2, uniques2 = pd.factorize(df2['Localidad'])\n",
    "df2['Code_localidad'] = labels2"
   ]
  },
  {
   "cell_type": "code",
   "execution_count": 8,
   "metadata": {},
   "outputs": [
    {
     "name": "stdout",
     "output_type": "stream",
     "text": [
      "<class 'pandas.core.frame.DataFrame'>\n",
      "RangeIndex: 907 entries, 0 to 906\n",
      "Data columns (total 11 columns):\n",
      " #   Column             Non-Null Count  Dtype \n",
      "---  ------             --------------  ----- \n",
      " 0   Nombre de trabajo  907 non-null    object\n",
      " 1   Compania           907 non-null    object\n",
      " 2   Salario            907 non-null    object\n",
      " 3   Categoria          907 non-null    object\n",
      " 4   Subcategoria       907 non-null    object\n",
      " 5   Localidad          907 non-null    object\n",
      " 6   Activo desde       907 non-null    object\n",
      " 7   Jornada            907 non-null    object\n",
      " 8   Tipo de contrato   907 non-null    object\n",
      " 9   Code_contrato      907 non-null    int64 \n",
      " 10  Code_localidad     907 non-null    int64 \n",
      "dtypes: int64(2), object(9)\n",
      "memory usage: 78.1+ KB\n"
     ]
    }
   ],
   "source": [
    "df2.info()"
   ]
  },
  {
   "cell_type": "code",
   "execution_count": null,
   "metadata": {},
   "outputs": [],
   "source": []
  },
  {
   "cell_type": "markdown",
   "metadata": {},
   "source": [
    "### Clustering"
   ]
  },
  {
   "cell_type": "code",
   "execution_count": 9,
   "metadata": {},
   "outputs": [],
   "source": [
    "import matplotlib.pyplot as plt\n",
    "from sklearn.cluster import KMeans"
   ]
  },
  {
   "cell_type": "code",
   "execution_count": 10,
   "metadata": {},
   "outputs": [],
   "source": [
    "X = df2.iloc[:, [9,10]].values\n",
    "wcss = []"
   ]
  },
  {
   "cell_type": "code",
   "execution_count": 11,
   "metadata": {},
   "outputs": [
    {
     "data": {
      "image/png": "[encoded data removed]",
      "text/plain": [
       "<Figure size 432x288 with 1 Axes>"
      ]
     },
     "metadata": {
      "needs_background": "light"
     },
     "output_type": "display_data"
    }
   ],
   "source": [
    "for i in range(1, 11):\n",
    "    kmeans = KMeans(n_clusters = i, init = \"k-means++\", max_iter = 300, n_init = 10, random_state = 0)\n",
    "    kmeans.fit(X)\n",
    "    wcss.append(kmeans.inertia_)\n",
    "\n",
    "plt.plot(range(1,11), wcss)\n",
    "plt.title(\"Método del codo\")\n",
    "plt.xlabel(\"Número de Clusters\")\n",
    "plt.ylabel(\"WCSS(k)\")\n",
    "plt.show()"
   ]
  },
  {
   "cell_type": "code",
   "execution_count": 12,
   "metadata": {},
   "outputs": [],
   "source": [
    "kmeans = KMeans(n_clusters = 3, init=\"k-means++\", max_iter = 300, n_init = 10, random_state = 0)\n",
    "y_kmeans = kmeans.fit_predict(X)"
   ]
  },
  {
   "cell_type": "code",
   "execution_count": 13,
   "metadata": {},
   "outputs": [
    {
     "data": {
      "image/png": "[encoded data removed]",
      "text/plain": [
       "<Figure size 432x288 with 1 Axes>"
      ]
     },
     "metadata": {
      "needs_background": "light"
     },
     "output_type": "display_data"
    }
   ],
   "source": [
    "plt.scatter(X[y_kmeans == 0, 0], X[y_kmeans == 0, 1], s = 100, c = \"red\", label = \"\")\n",
    "plt.scatter(X[y_kmeans == 1, 0], X[y_kmeans == 1, 1], s = 100, c = \"blue\")\n",
    "plt.scatter(X[y_kmeans == 2, 0], X[y_kmeans == 2, 1], s = 100, c = \"green\")\n",
    "\n",
    "plt.scatter(kmeans.cluster_centers_[:,0], kmeans.cluster_centers_[:,1], s = 300, c = \"yellow\", label = \"Baricentros\")\n",
    "plt.title(\"Cluster de categoria de trabajos\")\n",
    "plt.xlabel(\"Code_contrato\")\n",
    "plt.ylabel(\"Code_localidad\")\n",
    "plt.legend()\n",
    "plt.show()"
   ]
  },
  {
   "cell_type": "code",
   "execution_count": null,
   "metadata": {},
   "outputs": [],
   "source": []
  },
  {
   "cell_type": "code",
   "execution_count": null,
   "metadata": {},
   "outputs": [],
   "source": []
  }
 ],
 "metadata": {
  "kernelspec": {
   "display_name": "Python 3",
   "language": "python",
   "name": "python3"
  },
  "language_info": {
   "codemirror_mode": {
    "name": "ipython",
    "version": 3
   },
   "file_extension": ".py",
   "mimetype": "text/x-python",
   "name": "python",
   "nbconvert_exporter": "python",
   "pygments_lexer": "ipython3",
   "version": "3.8.3"
  }
 },
 "nbformat": 4,
 "nbformat_minor": 4
}
